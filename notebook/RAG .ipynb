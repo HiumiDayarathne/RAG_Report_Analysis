{
 "cells": [
  {
   "cell_type": "code",
   "execution_count": 8,
   "id": "eb6f018f-12c5-44ff-ae26-d41da9209e33",
   "metadata": {},
   "outputs": [
    {
     "name": "stdout",
     "output_type": "stream",
     "text": [
      "Note: you may need to restart the kernel to use updated packages.\n"
     ]
    }
   ],
   "source": [
    "%pip install -qU pypdf langchain_community"
   ]
  },
  {
   "cell_type": "code",
   "execution_count": 9,
   "id": "73e5993e-4299-4ef5-b240-f69379d86d79",
   "metadata": {},
   "outputs": [
    {
     "name": "stdout",
     "output_type": "stream",
     "text": [
      "132\n"
     ]
    }
   ],
   "source": [
    "from langchain_community.document_loaders import PyPDFLoader\n",
    "file_path = \"SLA_AnnualReport.pdf\"\n",
    "loader = PyPDFLoader(file_path)\n",
    "\n",
    "docs = loader.load()\n",
    "\n",
    "print(len(docs))"
   ]
  },
  {
   "cell_type": "code",
   "execution_count": 10,
   "id": "464377f6-e98c-48af-a6a2-5ded116678e4",
   "metadata": {},
   "outputs": [
    {
     "name": "stdout",
     "output_type": "stream",
     "text": [
      "SRILANKAN AIRLINES | ANNUAL REPORT 2023/24\n",
      "www.srilankan.com\n",
      "Airline Centre, \n",
      "Bandaranaike Internati\n",
      "{'source': 'SLA_AnnualReport.pdf', 'page': 0}\n"
     ]
    }
   ],
   "source": [
    "print(docs[0].page_content[0:100])\n",
    "print(docs[0].metadata)"
   ]
  },
  {
   "cell_type": "code",
   "execution_count": 11,
   "id": "23f9d4e1-e1a4-4162-a873-08e7f89b0657",
   "metadata": {},
   "outputs": [
    {
     "name": "stdout",
     "output_type": "stream",
     "text": [
      "Note: you may need to restart the kernel to use updated packages.\n"
     ]
    }
   ],
   "source": [
    "pip install -qU langchain-openai"
   ]
  },
  {
   "cell_type": "code",
   "execution_count": 12,
   "id": "c9c0c08a-60c7-4fa5-a2cf-ffdc950296f1",
   "metadata": {},
   "outputs": [
    {
     "name": "stdin",
     "output_type": "stream",
     "text": [
      " ········\n"
     ]
    }
   ],
   "source": [
    "import getpass\n",
    "import os\n",
    "\n",
    "os.environ[\"OPENAI_API_KEY\"] = getpass.getpass()\n",
    "\n",
    "from langchain_openai import ChatOpenAI\n",
    "\n",
    "llm = ChatOpenAI(model=\"gpt-4o\")"
   ]
  },
  {
   "cell_type": "code",
   "execution_count": 13,
   "id": "fa5e8021-8154-4d1c-8463-69c7af81729e",
   "metadata": {},
   "outputs": [
    {
     "name": "stdout",
     "output_type": "stream",
     "text": [
      "Defaulting to user installation because normal site-packages is not writeable\n",
      "Requirement already satisfied: langchain_openai in c:\\users\\interweb\\appdata\\roaming\\python\\python312\\site-packages (0.2.4)\n",
      "Requirement already satisfied: langchain-core<0.4.0,>=0.3.13 in c:\\users\\interweb\\appdata\\roaming\\python\\python312\\site-packages (from langchain_openai) (0.3.14)\n",
      "Requirement already satisfied: openai<2.0.0,>=1.52.0 in c:\\users\\interweb\\appdata\\roaming\\python\\python312\\site-packages (from langchain_openai) (1.52.2)\n",
      "Requirement already satisfied: tiktoken<1,>=0.7 in c:\\users\\interweb\\appdata\\roaming\\python\\python312\\site-packages (from langchain_openai) (0.8.0)\n",
      "Requirement already satisfied: PyYAML>=5.3 in c:\\program files\\anaconda3\\lib\\site-packages (from langchain-core<0.4.0,>=0.3.13->langchain_openai) (6.0.1)\n",
      "Requirement already satisfied: jsonpatch<2.0,>=1.33 in c:\\program files\\anaconda3\\lib\\site-packages (from langchain-core<0.4.0,>=0.3.13->langchain_openai) (1.33)\n",
      "Requirement already satisfied: langsmith<0.2.0,>=0.1.125 in c:\\users\\interweb\\appdata\\roaming\\python\\python312\\site-packages (from langchain-core<0.4.0,>=0.3.13->langchain_openai) (0.1.137)\n",
      "Requirement already satisfied: packaging<25,>=23.2 in c:\\program files\\anaconda3\\lib\\site-packages (from langchain-core<0.4.0,>=0.3.13->langchain_openai) (23.2)\n",
      "Requirement already satisfied: pydantic<3.0.0,>=2.7.4 in c:\\users\\interweb\\appdata\\roaming\\python\\python312\\site-packages (from langchain-core<0.4.0,>=0.3.13->langchain_openai) (2.9.2)\n",
      "Requirement already satisfied: tenacity!=8.4.0,<10.0.0,>=8.1.0 in c:\\program files\\anaconda3\\lib\\site-packages (from langchain-core<0.4.0,>=0.3.13->langchain_openai) (8.2.2)\n",
      "Requirement already satisfied: typing-extensions>=4.7 in c:\\program files\\anaconda3\\lib\\site-packages (from langchain-core<0.4.0,>=0.3.13->langchain_openai) (4.11.0)\n",
      "Requirement already satisfied: anyio<5,>=3.5.0 in c:\\program files\\anaconda3\\lib\\site-packages (from openai<2.0.0,>=1.52.0->langchain_openai) (4.2.0)\n",
      "Requirement already satisfied: distro<2,>=1.7.0 in c:\\program files\\anaconda3\\lib\\site-packages (from openai<2.0.0,>=1.52.0->langchain_openai) (1.9.0)\n",
      "Requirement already satisfied: httpx<1,>=0.23.0 in c:\\users\\interweb\\appdata\\roaming\\python\\python312\\site-packages (from openai<2.0.0,>=1.52.0->langchain_openai) (0.27.2)\n",
      "Requirement already satisfied: jiter<1,>=0.4.0 in c:\\users\\interweb\\appdata\\roaming\\python\\python312\\site-packages (from openai<2.0.0,>=1.52.0->langchain_openai) (0.6.1)\n",
      "Requirement already satisfied: sniffio in c:\\program files\\anaconda3\\lib\\site-packages (from openai<2.0.0,>=1.52.0->langchain_openai) (1.3.0)\n",
      "Requirement already satisfied: tqdm>4 in c:\\program files\\anaconda3\\lib\\site-packages (from openai<2.0.0,>=1.52.0->langchain_openai) (4.66.4)\n",
      "Requirement already satisfied: regex>=2022.1.18 in c:\\program files\\anaconda3\\lib\\site-packages (from tiktoken<1,>=0.7->langchain_openai) (2023.10.3)\n",
      "Requirement already satisfied: requests>=2.26.0 in c:\\program files\\anaconda3\\lib\\site-packages (from tiktoken<1,>=0.7->langchain_openai) (2.32.2)\n",
      "Requirement already satisfied: idna>=2.8 in c:\\program files\\anaconda3\\lib\\site-packages (from anyio<5,>=3.5.0->openai<2.0.0,>=1.52.0->langchain_openai) (3.7)\n",
      "Requirement already satisfied: certifi in c:\\program files\\anaconda3\\lib\\site-packages (from httpx<1,>=0.23.0->openai<2.0.0,>=1.52.0->langchain_openai) (2024.6.2)\n",
      "Requirement already satisfied: httpcore==1.* in c:\\users\\interweb\\appdata\\roaming\\python\\python312\\site-packages (from httpx<1,>=0.23.0->openai<2.0.0,>=1.52.0->langchain_openai) (1.0.6)\n",
      "Requirement already satisfied: h11<0.15,>=0.13 in c:\\users\\interweb\\appdata\\roaming\\python\\python312\\site-packages (from httpcore==1.*->httpx<1,>=0.23.0->openai<2.0.0,>=1.52.0->langchain_openai) (0.14.0)\n",
      "Requirement already satisfied: jsonpointer>=1.9 in c:\\program files\\anaconda3\\lib\\site-packages (from jsonpatch<2.0,>=1.33->langchain-core<0.4.0,>=0.3.13->langchain_openai) (2.1)\n",
      "Requirement already satisfied: orjson<4.0.0,>=3.9.14 in c:\\users\\interweb\\appdata\\roaming\\python\\python312\\site-packages (from langsmith<0.2.0,>=0.1.125->langchain-core<0.4.0,>=0.3.13->langchain_openai) (3.10.10)\n",
      "Requirement already satisfied: requests-toolbelt<2.0.0,>=1.0.0 in c:\\program files\\anaconda3\\lib\\site-packages (from langsmith<0.2.0,>=0.1.125->langchain-core<0.4.0,>=0.3.13->langchain_openai) (1.0.0)\n",
      "Requirement already satisfied: annotated-types>=0.6.0 in c:\\program files\\anaconda3\\lib\\site-packages (from pydantic<3.0.0,>=2.7.4->langchain-core<0.4.0,>=0.3.13->langchain_openai) (0.6.0)\n",
      "Requirement already satisfied: pydantic-core==2.23.4 in c:\\users\\interweb\\appdata\\roaming\\python\\python312\\site-packages (from pydantic<3.0.0,>=2.7.4->langchain-core<0.4.0,>=0.3.13->langchain_openai) (2.23.4)\n",
      "Requirement already satisfied: charset-normalizer<4,>=2 in c:\\program files\\anaconda3\\lib\\site-packages (from requests>=2.26.0->tiktoken<1,>=0.7->langchain_openai) (2.0.4)\n",
      "Requirement already satisfied: urllib3<3,>=1.21.1 in c:\\program files\\anaconda3\\lib\\site-packages (from requests>=2.26.0->tiktoken<1,>=0.7->langchain_openai) (2.2.2)\n",
      "Requirement already satisfied: colorama in c:\\program files\\anaconda3\\lib\\site-packages (from tqdm>4->openai<2.0.0,>=1.52.0->langchain_openai) (0.4.6)\n",
      "Note: you may need to restart the kernel to use updated packages.\n"
     ]
    }
   ],
   "source": [
    "%pip install langchain_openai"
   ]
  },
  {
   "cell_type": "code",
   "execution_count": 14,
   "id": "479e130f-35f8-4d54-94e8-554d0a0e63c2",
   "metadata": {},
   "outputs": [],
   "source": [
    "from langchain_core.vectorstores import InMemoryVectorStore\n",
    "from langchain_openai import OpenAIEmbeddings\n",
    "from langchain_text_splitters import RecursiveCharacterTextSplitter\n",
    "\n",
    "text_splitter = RecursiveCharacterTextSplitter(chunk_size=1000, chunk_overlap=200)\n",
    "splits = text_splitter.split_documents(docs)\n",
    "vectorstore = InMemoryVectorStore.from_documents(\n",
    "    documents=splits, embedding=OpenAIEmbeddings()\n",
    ")\n",
    "\n",
    "retriever = vectorstore.as_retriever()"
   ]
  },
  {
   "cell_type": "code",
   "execution_count": 15,
   "id": "229f5ecd-e37f-44fe-91c4-3fa60d211951",
   "metadata": {},
   "outputs": [
    {
     "data": {
      "text/plain": [
       "{'input': 'What initiatives has SriLankan Airlines implemented to promote Sri Lanka as a tourist destination?',\n",
       " 'context': [Document(id='92cff695-cac1-4d5e-becb-96517f403d8c', metadata={'source': 'SLA_AnnualReport.pdf', 'page': 33}, page_content='franchisees of the Airline’s tour operating \\narm, SriLankan Holidays. Through \\ncarefully curated tours and accompanied \\nby members of the Airline’s worldwide \\nsales team, the participants were able \\nto visit some of Sri Lanka’s most iconic \\nlandmarks.\\nSports and Culture Tourism\\nOver the years, SriLankan Airlines has \\nbeen a driving force in promoting the \\nisland for adventure and sports tourism \\nthrough an assortment of events in the \\nspheres of surfing‚ cycling‚ mountain \\nbiking‚ golfing‚ and running. The Airline \\nexecuted a range of promotional activities \\nfocusing on the Asia Cup and the historic \\nKandy Esala Perahera; two remarkable \\nevents that were simultaneously \\nunderway. Through each of these events, \\nthe Company successfully showcased the \\nCountry’s exceptional beauty and rich \\nculture, inspiring tens of thousands of \\ntourists to visit. The Airline also returned \\nto its two signature events in Australia, \\nthe iconic Melbourne Marathon and the'),\n",
       "  Document(id='2297de78-44e0-4cb5-9828-be661bb74334', metadata={'source': 'SLA_AnnualReport.pdf', 'page': 10}, page_content='The Airline is working on its customer \\nofferings. In Inflight there has been an \\naward-winning campaign to enhance \\npassenger experience with additional \\nmeal choices featuring Sri Lankan \\nflavours. On the ground, as passenger \\nnumbers have increased at Bandaranaike \\nInternational Airport, we have run major \\nrecruitment campaigns to increase the \\nnumbers of ground handling staff. At \\nthe same time to accelerate the check-\\nin process at peak times, and maximise \\nutilisation of the limited airport space, \\nwe have introduced self-service check-\\nin facilities enhancing passenger \\nconvenience and satisfaction. Currently, \\nthe Airline is working with the Airport \\nand Aviation Authority of Sri Lanka \\n(AASL) to increase the check-in counters \\nto cater for the next winter peak.\\nThe Airline also plays a vital role \\nin promoting Sri Lanka as a tourist \\ndestination.  This is good for both \\nthe country and the Airline. We have \\nmade full use of the Airline’s global'),\n",
       "  Document(id='6ed6f207-3ba2-40f4-9f92-49057adf3477', metadata={'source': 'SLA_AnnualReport.pdf', 'page': 15}, page_content='recruiting and training hundreds of \\nground staff through the year. In addition \\nto enhanced service, customer experience \\nand a lack of check-in counters at \\nBandaranaike International Airport, the \\nAirline also added self-serving facilities \\nin mid-2023. This has allowed us to \\nspeed up the check in process and reduce \\nqueues at peak times. Currently, the \\nAirline is working with the Airport and \\nAviation Authority of Sri Lanka (AASL) to \\nincrease the number of check-in counters \\nby 50% over the next six months to \\nmanage continued passenger growth.\\nSriLankan Airlines is globally the single \\nbiggest promoter of Sri Lanka as a tourist \\ndestination. We have sales teams on \\nthe ground everywhere we fly and many \\nplaces we don’t, liaising with major tour \\noperators and showcasing Sri Lanka as \\na tourist destination across the world. \\nWe also have our online channels and \\nare working hard to expand our digital \\npresence highlighting the country and all \\nSri Lanka has to offer.'),\n",
       "  Document(id='762fa9af-5cf7-47b9-9945-5fcd1c0e0ec4', metadata={'source': 'SLA_AnnualReport.pdf', 'page': 15}, page_content='as optimising its schedule, reallocating \\naircraft to maximise profitability, short \\nterm wet-leasing of additional aircraft to \\nmeet the growing demand and exploring \\ninnovative recruitment strategies to \\naddress staff shortages. \\nThe Airline has focused on enhancing \\nits award-winning, in-flight product \\noffering during the financial year. The \\nAirline enhanced its range of Sri Lankan \\nmeals as we seek to offer a genuine Sri \\nLankan experience showcasing the best \\nof Sri Lankan hospitality to international \\npassengers, and a sense of “home” for Sri \\nLankans.\\nAs traffic returned rapidly to Sri Lanka, \\nthis posed challenges at the airport as \\nmany experienced staff left the industry \\nduring the pandemic. The Airline has \\nworked hard to improve the situation, \\nrecruiting and training hundreds of \\nground staff through the year. In addition \\nto enhanced service, customer experience \\nand a lack of check-in counters at \\nBandaranaike International Airport, the')],\n",
       " 'answer': \"SriLankan Airlines has promoted Sri Lanka as a tourist destination by executing promotional activities around major events such as the Asia Cup and the Kandy Esala Perahera, showcasing the country's beauty and culture. The airline has also organized carefully curated tours through its tour operating arm, SriLankan Holidays, and participated in international events like the Melbourne Marathon. Additionally, the airline has leveraged its global sales teams and expanded its digital presence to highlight Sri Lanka's offerings worldwide.\"}"
      ]
     },
     "execution_count": 15,
     "metadata": {},
     "output_type": "execute_result"
    }
   ],
   "source": [
    "from langchain.chains import create_retrieval_chain\n",
    "from langchain.chains.combine_documents import create_stuff_documents_chain\n",
    "from langchain_core.prompts import ChatPromptTemplate\n",
    "\n",
    "system_prompt = (\n",
    "    \"You are an assistant for question-answering tasks. \"\n",
    "    \"Use the following pieces of retrieved context to answer \"\n",
    "    \"the question. If you don't know the answer, say that you \"\n",
    "    \"don't know. Use three sentences maximum and keep the \"\n",
    "    \"answer concise.\"\n",
    "    \"\\n\\n\"\n",
    "    \"{context}\"\n",
    ")\n",
    "\n",
    "prompt = ChatPromptTemplate.from_messages(\n",
    "    [\n",
    "        (\"system\", system_prompt),\n",
    "        (\"human\", \"{input}\"),\n",
    "    ]\n",
    ")\n",
    "\n",
    "\n",
    "question_answer_chain = create_stuff_documents_chain(llm, prompt)\n",
    "rag_chain = create_retrieval_chain(retriever, question_answer_chain)\n",
    "\n",
    "results = rag_chain.invoke({\"input\": \"What initiatives has SriLankan Airlines implemented to promote Sri Lanka as a tourist destination?\"})\n",
    "\n",
    "results"
   ]
  },
  {
   "cell_type": "code",
   "execution_count": 16,
   "id": "4a55b67d-e670-4c0a-8d0a-b15b9286c13e",
   "metadata": {},
   "outputs": [
    {
     "name": "stdout",
     "output_type": "stream",
     "text": [
      "franchisees of the Airline’s tour operating \n",
      "arm, SriLankan Holidays. Through \n",
      "carefully curated tours and accompanied \n",
      "by members of the Airline’s worldwide \n",
      "sales team, the participants were able \n",
      "to visit some of Sri Lanka’s most iconic \n",
      "landmarks.\n",
      "Sports and Culture Tourism\n",
      "Over the years, SriLankan Airlines has \n",
      "been a driving force in promoting the \n",
      "island for adventure and sports tourism \n",
      "through an assortment of events in the \n",
      "spheres of surfing‚ cycling‚ mountain \n",
      "biking‚ golfing‚ and running. The Airline \n",
      "executed a range of promotional activities \n",
      "focusing on the Asia Cup and the historic \n",
      "Kandy Esala Perahera; two remarkable \n",
      "events that were simultaneously \n",
      "underway. Through each of these events, \n",
      "the Company successfully showcased the \n",
      "Country’s exceptional beauty and rich \n",
      "culture, inspiring tens of thousands of \n",
      "tourists to visit. The Airline also returned \n",
      "to its two signature events in Australia, \n",
      "the iconic Melbourne Marathon and the\n"
     ]
    }
   ],
   "source": [
    "print(results[\"context\"][0].page_content)"
   ]
  },
  {
   "cell_type": "code",
   "execution_count": 17,
   "id": "f1e9c7fc-2f12-41d0-b8db-6aa65c129f9d",
   "metadata": {},
   "outputs": [
    {
     "name": "stdout",
     "output_type": "stream",
     "text": [
      "{'source': 'SLA_AnnualReport.pdf', 'page': 33}\n"
     ]
    }
   ],
   "source": [
    "print(results[\"context\"][0].metadata)"
   ]
  },
  {
   "cell_type": "code",
   "execution_count": null,
   "id": "92ae7961-3e75-421e-a098-74c097152a56",
   "metadata": {},
   "outputs": [],
   "source": []
  }
 ],
 "metadata": {
  "kernelspec": {
   "display_name": "Python 3 (ipykernel)",
   "language": "python",
   "name": "python3"
  },
  "language_info": {
   "codemirror_mode": {
    "name": "ipython",
    "version": 3
   },
   "file_extension": ".py",
   "mimetype": "text/x-python",
   "name": "python",
   "nbconvert_exporter": "python",
   "pygments_lexer": "ipython3",
   "version": "3.12.4"
  }
 },
 "nbformat": 4,
 "nbformat_minor": 5
}
